{
  "nbformat": 4,
  "nbformat_minor": 0,
  "metadata": {
    "colab": {
      "provenance": []
    },
    "kernelspec": {
      "name": "python3",
      "display_name": "Python 3"
    },
    "language_info": {
      "name": "python"
    }
  },
  "cells": [
    {
      "cell_type": "code",
      "execution_count": 5,
      "metadata": {
        "colab": {
          "base_uri": "https://localhost:8080/",
          "height": 434
        },
        "id": "7E_JPHbTDy4e",
        "outputId": "7fd7386e-59ee-4020-ab1d-c4cb0227ef2b"
      },
      "outputs": [
        {
          "output_type": "stream",
          "name": "stdout",
          "text": [
            "Available stocks and prices:\n",
            "AAPL: $180\n",
            "TSLA: $250\n",
            "MSFT: $320\n",
            "GOOGL: $140\n",
            "GOLD: $550\n",
            "\n",
            "Enter stock symbol (or 'done' to finish): GOLD\n",
            "Enter quantity of GOLD: 5\n",
            "\n",
            "Enter stock symbol (or 'done' to finish): TSLA\n",
            "Enter quantity of TSLA: 3\n",
            "\n",
            "Enter stock symbol (or 'done' to finish): done\n",
            "\n",
            "Your Portfolio:\n",
            "GOLD: 5 shares × $550 = $2750\n",
            "TSLA: 3 shares × $250 = $750\n",
            "\n",
            "Total Investment Value: $3500\n",
            "\n",
            "Save results to file? (yes/no): yes\n",
            "Results saved to portfolio.txt\n"
          ]
        },
        {
          "output_type": "display_data",
          "data": {
            "text/plain": [
              "<IPython.core.display.Javascript object>"
            ],
            "application/javascript": [
              "\n",
              "    async function download(id, filename, size) {\n",
              "      if (!google.colab.kernel.accessAllowed) {\n",
              "        return;\n",
              "      }\n",
              "      const div = document.createElement('div');\n",
              "      const label = document.createElement('label');\n",
              "      label.textContent = `Downloading \"${filename}\": `;\n",
              "      div.appendChild(label);\n",
              "      const progress = document.createElement('progress');\n",
              "      progress.max = size;\n",
              "      div.appendChild(progress);\n",
              "      document.body.appendChild(div);\n",
              "\n",
              "      const buffers = [];\n",
              "      let downloaded = 0;\n",
              "\n",
              "      const channel = await google.colab.kernel.comms.open(id);\n",
              "      // Send a message to notify the kernel that we're ready.\n",
              "      channel.send({})\n",
              "\n",
              "      for await (const message of channel.messages) {\n",
              "        // Send a message to notify the kernel that we're ready.\n",
              "        channel.send({})\n",
              "        if (message.buffers) {\n",
              "          for (const buffer of message.buffers) {\n",
              "            buffers.push(buffer);\n",
              "            downloaded += buffer.byteLength;\n",
              "            progress.value = downloaded;\n",
              "          }\n",
              "        }\n",
              "      }\n",
              "      const blob = new Blob(buffers, {type: 'application/binary'});\n",
              "      const a = document.createElement('a');\n",
              "      a.href = window.URL.createObjectURL(blob);\n",
              "      a.download = filename;\n",
              "      div.appendChild(a);\n",
              "      a.click();\n",
              "      div.remove();\n",
              "    }\n",
              "  "
            ]
          },
          "metadata": {}
        },
        {
          "output_type": "display_data",
          "data": {
            "text/plain": [
              "<IPython.core.display.Javascript object>"
            ],
            "application/javascript": [
              "download(\"download_033503a1-955e-4ca5-948a-80c76d05115d\", \"portfolio.txt\", 126)"
            ]
          },
          "metadata": {}
        }
      ],
      "source": [
        "\n",
        "stock_prices = {\n",
        "    \"AAPL\": 180,\n",
        "    \"TSLA\": 250,\n",
        "    \"MSFT\": 320,\n",
        "    \"GOOGL\": 140,\n",
        "    \"GOLD\": 550\n",
        "}\n",
        "print(\"Available stocks and prices:\")\n",
        "for stock, price in stock_prices.items():\n",
        "    print(f\"{stock}: ${price}\")\n",
        "\n",
        "portfolio = {}\n",
        "while True:\n",
        "    stock_name = input(\"\\nEnter stock symbol (or 'EXIT' to finish): \").upper()\n",
        "    if stock_name == \"EXIT\":\n",
        "        break\n",
        "    if stock_name not in stock_prices:\n",
        "        print(\"ERROR. Try again.\")\n",
        "        continue\n",
        "    try:\n",
        "        quantity = int(input(f\"Enter quantity of {stock_name}: \"))\n",
        "        portfolio[stock_name] = portfolio.get(stock_name, 0) + quantity\n",
        "    except ValueError:\n",
        "        print(\"ERROR. Please enter a number.\")\n",
        "\n",
        "total_value = 0\n",
        "print(\"\\nYour Portfolio:\")\n",
        "for stock, qty in portfolio.items():\n",
        "    price = stock_prices[stock]\n",
        "    value = price * qty\n",
        "    total_value += value\n",
        "    print(f\"{stock}: {qty} shares × ${price} = ${value}\")\n",
        "\n",
        "print(f\"\\nTotal Investment Value: ${total_value}\")\n",
        "\n",
        "# Optionally save to file\n",
        "save_choice = input(\"\\nSave results to file? (yes/no): \").lower()\n",
        "if save_choice == \"yes\":\n",
        "    filename = \"portfolio.txt\"\n",
        "    with open(filename, \"w\") as f:\n",
        "\n",
        "        f.write(\"Aiman Manzoor Internship Task 1\")\n",
        "        f.write(\"Stock Portfolio\\n\")\n",
        "        f.write(\"=================\\n\")\n",
        "        for stock, qty in portfolio.items():\n",
        "            price = stock_prices[stock]\n",
        "            value = price * qty\n",
        "            f.write(f\"{stock}: {qty} shares × ${price} = ${value}\\n\")\n",
        "        f.write(f\"\\nTotal Investment Value: ${total_value}\\n\")\n",
        "    print(f\"Results saved to {filename}\")\n",
        "\n",
        "    # Download in Colab\n",
        "    from google.colab import files\n",
        "    files.download(filename)\n"
      ]
    }
  ]
}